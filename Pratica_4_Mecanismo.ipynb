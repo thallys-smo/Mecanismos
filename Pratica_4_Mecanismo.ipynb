{
 "cells": [
  {
   "cell_type": "markdown",
   "metadata": {},
   "source": [
    "### Prática 4 - Mecanismo\n",
    "#### Thallys Oliveira - 11819827"
   ]
  },
  {
   "cell_type": "code",
   "execution_count": 3,
   "metadata": {},
   "outputs": [
    {
     "name": "stdout",
     "output_type": "stream",
     "text": [
      "6.75\n",
      "Grashof\n"
     ]
    }
   ],
   "source": [
    "import numpy as np\n",
    "import matplotlib.pyplot as plt\n",
    "import cmath\n",
    "\n",
    "# Número USP:  11819827\n",
    "# Final do número usp\n",
    "\n",
    "N = 27\n",
    "zeta = N/4\n",
    "\n",
    "print(zeta)\n",
    "\n",
    "# Comprimento do Elos (mm)\n",
    "\n",
    "a = 40 - zeta  # Elo L2\n",
    "b = 120 + zeta # Elo L3\n",
    "c = 80 - zeta  # Elo L4\n",
    "d = 100 + zeta # Elo L1\n",
    "\n",
    "# Verificando a Condição de Grashof\n",
    "\n",
    "S,L,P,Q=a,b,c,d\n",
    "\n",
    "if (S+L)>(P+Q):\n",
    "    print(\"Não Grashof\")\n",
    "else:\n",
    "    print(\"Grashof\")"
   ]
  },
  {
   "cell_type": "code",
   "execution_count": 5,
   "metadata": {},
   "outputs": [
    {
     "name": "stdout",
     "output_type": "stream",
     "text": [
      "As condições iniciais do mecanismos são 0.6981,12.5664,0.0000\n",
      "As massas dos Elos 2, 3 e 4, respectivamente, são 99.7500 kg,380.2500 kg,219.7500 kg\n",
      "Os pesos dos Elos 2, 3 e 4, respectivamente, são 978.5475 N,3730.2525 N,2155.7475 N\n",
      "Os Momentos de Inércia dos Elos 2, 3 e 4, respectivamente, são 36759.9531 kg.m^2,2036310.0469 kg.m^2,393027.4531 kg.m^2\n"
     ]
    }
   ],
   "source": [
    "# Condições Iniciais\n",
    "\n",
    "theta_2_ini = 40.0                    # Posição inicial de θ2 em graus\n",
    "theta_2_ini = np.radians(theta_2_ini) # Posição inicial de θ2 em radianos\n",
    "w_2_ini = 4*np.pi                     # Velocidade Angular inicial de θ2 \n",
    "alpha_2_ini = 0.0                     # Aceleração Angular inicial de θ2  \n",
    "\n",
    "print(\"As condições iniciais do mecanismos são {:.4f},{:.4f},{:.4f}\".format(theta_2_ini,w_2_ini,alpha_2_ini))\n",
    "\n",
    "# Constantes Importantes\n",
    "\n",
    "pL = 3     # Densidade Linear kg/m\n",
    "g = 9.81   # Gravidade m/s^2\n",
    "\n",
    "# Massas, Pesos e Momentos de Inércia de cada Elo\n",
    "\n",
    "m2, m3, m4 = a*pL,b*pL,c*pL # Massa de cada Elo\n",
    "p2, p3, p4 = m2*g,m3*g,m4*g # Pesos de cada Elo\n",
    "I2, I3, I4 = m2*(a**2)/3, m3*(b**2)/3, m4*(c**2)/3 # Momentos de Inércia de cada Elo\n",
    "\n",
    "print(\"As massas dos Elos 2, 3 e 4, respectivamente, são {:.4f} kg,{:.4f} kg,{:.4f} kg\".format(m2,m3,m4))\n",
    "print(\"Os pesos dos Elos 2, 3 e 4, respectivamente, são {:.4f} N,{:.4f} N,{:.4f} N\".format(p2,p3,p4))\n",
    "print(\"Os Momentos de Inércia dos Elos 2, 3 e 4, respectivamente, são {:.4f} kg.m^2,{:.4f} kg.m^2,{:.4f} kg.m^2\".format(I2,I3,I4))\n",
    "\n"
   ]
  },
  {
   "cell_type": "code",
   "execution_count": null,
   "metadata": {},
   "outputs": [],
   "source": [
    "''' Análise da Posição '''\n",
    "\n",
    "t = np.linspace(0,1,1000) #Tempo em segundos\n",
    "\n",
    "# Variáveis Circuito Aberto\n",
    "\n",
    "theta_2, theta_3_aberto,theta_4_aberto =[],[],[] # Posição\n",
    "w_3_aberto, w_4_aberto = [],[]                   # Velocidade Angular\n",
    "a_3_aberto, a_4_aberto = [],[]                   # Aceleração Angular\n",
    "\n",
    "# Variáveis Circuito Cruzado\n",
    "\n",
    "theta_3_cruza,theta_4_fecha = [],[]   # Posição\n",
    "w_3_fecha, w_4_fecha = [],[]          # Velocidade Angular\n",
    "a_3_cruza, a_4_cruza = [],[]          # Aceleração Angular\n",
    "\n",
    "''' Analise da Posição Angular, Velocodade Angular, Aceleração Angular, Velociade Linear e Aceleração Linear'''\n",
    "\n",
    "# Variáveis Auxiliares\n",
    "\n",
    "K1, K2, K3, K4, K5 = d/a, d/c, (a*a-b*b+c*c+d*d)/(2*a*c), d/b, (c**2-d**2-a**2-b**2)/(2*a*c)\n",
    "A,B,C,D,E,F = [],[],[],[],[],[]\n",
    "KA_aberto, KB_aberto, KC_aberto, KD_aberto, KE_aberto, KF_aberto = [],[],[],[],[],[]\n",
    "KA_cruza , KB_cruza , KC_cruza , KD_cruza , KE_cruza , KF_cruza  = [],[],[],[],[],[]\n",
    "v_A, a_A, v_B_aberto,a_B_aberto, v_B_cruza, a_B_cruza = [],[],[],[],[],[]\n",
    "\n",
    "\n",
    "for i in range(0,len(t),1):\n",
    "    theta_2.append(theta_2_ini + w_2_ini*t[i])\n",
    "\n",
    "    A.append(np.cos(theta_2[i])-K1-K2*np.cos(theta_2[i]) + K3)\n",
    "    B.append(-2*np.sin(theta_2[i]))\n",
    "    C.append(K1 - (K2+1)*np.cos(theta_2[i]) + K3)\n",
    "    D.append(np.cos(theta_2[i])-K1+K4*np.cos(theta_2[i]) + K5)\n",
    "    E.append(-2*np.sin(theta_2[i]))\n",
    "    F.append(K1 + (K4 -1)*np.cos(theta_2[i]) + K5)\n",
    "\n",
    "for i in range(0,len(t),1):\n",
    "\n",
    "    '''Circuito Aberto'''\n",
    "\n",
    "    # Posição\n",
    "\n",
    "    theta_3_aberto.append(2*np.arctan((-E[i]-cmath.sqrt(E[i]*E[i]-4*D[i]*F[i]))/(2*D[i])))\n",
    "    theta_4_aberto.append(2*np.arctan((-B[i]-cmath.sqrt(B[i]*B[i]-4*A[i]*C[i]))/(2*A[i])))\n",
    "\n",
    "    # Velocidade Angular\n",
    "\n",
    "    w_3_aberto.append(a*w_2_ini*np.sin(theta_4_aberto[i]-theta_2[i])/(b*np.sin(theta_3_aberto[i]-theta_4_aberto[i])))\n",
    "    w_4_aberto.append(a*w_2_ini*np.sin(theta_2[i]-theta_3_aberto[i])/(b*np.sin(theta_4_aberto[i]-theta_3_aberto[i])))\n",
    "\n",
    "    # Aceleração Angular\n",
    "\n",
    "    KA_aberto.append(c*np.sin(theta_4_aberto[i]))\n",
    "    KB_aberto.append(b*np.sin(theta_3_aberto[i]))\n",
    "    KD_aberto.append(c*np.sin(theta_4_aberto[i]))\n",
    "    KE_aberto.append(b*np.sin(theta_4_aberto[i]))\n",
    "    KC_aberto.append(a*alpha_2_ini*np.sin(theta_2[i])+a*w_2_ini**2*np.cos(theta_2[i])+b*w_3_aberto[i]**2*np.cos(theta_3_aberto[i])-c*w_4_aberto[i]**2*np.cos(theta_4_aberto[i]))\n",
    "    KF_aberto.append(a*alpha_2_ini*np.cos(theta_2[i])-a*w_2_ini**2*np.sin(theta_2[i])-b*w_3_aberto[i]**2*np.sin(theta_3_aberto[i])+c*w_4_aberto[i]**2*np.sin(theta_4_aberto[i]))\n",
    "    a_3_aberto.append((KC_aberto[i]*KD_aberto[i]-KA_aberto[i]*KE_aberto[i])/(KA_aberto[i]*KE_aberto[i]-KB_aberto[i]*KD_aberto[i]))\n",
    "    a_4_aberto.append((KC_aberto[i]*KE_aberto[i]-KB_aberto[i]*KF_aberto[i])/(KA_aberto[i]*KE_aberto[i]-KB_aberto[i]*KD_aberto[i]))\n",
    "\n",
    "\n",
    "\n",
    "\n",
    "   \n"
   ]
  }
 ],
 "metadata": {
  "kernelspec": {
   "display_name": "Python 3",
   "language": "python",
   "name": "python3"
  },
  "language_info": {
   "codemirror_mode": {
    "name": "ipython",
    "version": 3
   },
   "file_extension": ".py",
   "mimetype": "text/x-python",
   "name": "python",
   "nbconvert_exporter": "python",
   "pygments_lexer": "ipython3",
   "version": "3.8.10"
  },
  "orig_nbformat": 4
 },
 "nbformat": 4,
 "nbformat_minor": 2
}
